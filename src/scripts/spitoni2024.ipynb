{
 "cells": [
  {
   "cell_type": "markdown",
   "id": "bc953a48-cda7-401a-a2a3-0a9a73f73f94",
   "metadata": {},
   "source": [
    "# Reproducing the models of Spitoni et al. (2024)"
   ]
  },
  {
   "cell_type": "code",
   "execution_count": 8,
   "id": "e4609f05-3005-4f90-8124-25f329445bb6",
   "metadata": {},
   "outputs": [],
   "source": [
    "import math as m\n",
    "import numpy as np\n",
    "import matplotlib.pyplot as plt\n",
    "import vice\n",
    "import paths"
   ]
  },
  {
   "cell_type": "code",
   "execution_count": 2,
   "id": "d2eb9cd7-b3d2-4c46-aab7-34f2d2e06dfd",
   "metadata": {},
   "outputs": [],
   "source": [
    "output_dir = paths.data / 'onezone' / 'Spitoni2024'\n",
    "output_dir.mkdir(parents=True, exist_ok=True)"
   ]
  },
  {
   "cell_type": "markdown",
   "id": "af52ab49-a6b7-4674-af7a-95d3fcab7fa4",
   "metadata": {},
   "source": [
    "## Model Parameters\n",
    "\n",
    "Simulation time"
   ]
  },
  {
   "cell_type": "code",
   "execution_count": 42,
   "id": "d921c7f0-537a-48f3-9684-2eeae1d09dea",
   "metadata": {},
   "outputs": [],
   "source": [
    "dt = 0.01\n",
    "tmax = 12.5\n",
    "simtime = np.arange(0, tmax+dt, dt)"
   ]
  },
  {
   "cell_type": "markdown",
   "id": "dbb0d8f7-1c77-4d26-ae94-df1fe999f305",
   "metadata": {},
   "source": [
    "Yields: I can't find a simple table of net yields for this study or any other using the same prescriptions, so I will assume the same yields as in Johnson et al. (2021)."
   ]
  },
  {
   "cell_type": "code",
   "execution_count": 4,
   "id": "6406071c-8318-4ac8-aba9-e827b9d907c3",
   "metadata": {},
   "outputs": [],
   "source": [
    "from multizone.src.yields import J21"
   ]
  },
  {
   "cell_type": "markdown",
   "id": "242f03fd-fcb2-43a0-bb3e-c2d382048855",
   "metadata": {},
   "source": [
    "SN Ia DTD: I think they use a SD model similar to Greggio (2005)"
   ]
  },
  {
   "cell_type": "code",
   "execution_count": 15,
   "id": "8cb3db33-0072-43f4-b50d-aa2149e8cf17",
   "metadata": {},
   "outputs": [],
   "source": [
    "from multizone.src.dtds import greggio05_single\n",
    "SD_RIa = greggio05_single()"
   ]
  },
  {
   "cell_type": "markdown",
   "id": "63b22e6d-6919-469f-bcc2-2a14a53199e6",
   "metadata": {},
   "source": [
    "The Two-Infall Model"
   ]
  },
  {
   "cell_type": "code",
   "execution_count": 13,
   "id": "dcfc01b2-2fd1-4130-95eb-51644dc06fb8",
   "metadata": {},
   "outputs": [
    {
     "data": {
      "image/png": "[encoded data removed]",
      "text/plain": [
       "<Figure size 640x480 with 1 Axes>"
      ]
     },
     "metadata": {},
     "output_type": "display_data"
    }
   ],
   "source": [
    "from multizone.src.models.normalize import twoinfall_ampratio\n",
    "\n",
    "class OneInfall:\n",
    "    def __init__(self, timescale=1, amplitude=1):\n",
    "        self.timescale = timescale\n",
    "        self.amplitude = amplitude\n",
    "        \n",
    "    def __call__(self, time):\n",
    "        return self.amplitude * m.exp(-time / self.timescale)\n",
    "\n",
    "class TwoInfall(OneInfall):\n",
    "    def __init__(self, timescale1=0.377, timescale2=3.203, amplitude1=1, onset=3.519, present_mass_ratio=2.5, tmax=12.5):\n",
    "        self.onset = onset\n",
    "        # Calculate the amplitude ratio (second infall to first)\n",
    "        amp_ratio = present_mass_ratio \n",
    "        amp_ratio *= timescale1 * (1 - m.exp(-tmax/timescale1))\n",
    "        amp_ratio *= 1 / (timescale2 * (1 - m.exp(-(tmax - onset)/timescale2)))\n",
    "        self.infall1 = OneInfall(timescale=timescale1, amplitude=amplitude1)\n",
    "        self.infall2 = OneInfall(timescale=timescale2, amplitude=amp_ratio*amplitude1)\n",
    "    \n",
    "    def __call__(self, time):\n",
    "        if time < self.onset:\n",
    "            return self.infall1(time)\n",
    "        else:\n",
    "            return self.infall1(time) + self.infall2(time - self.onset)\n",
    "\n",
    "fig, ax = plt.subplots()\n",
    "twoinfall_ifr = TwoInfall()\n",
    "ifr_data = np.array([twoinfall_ifr(t) for t in simtime])\n",
    "ax.plot(simtime, ifr_data)\n",
    "ax.set_xlabel('Time [Gyr]')\n",
    "ax.set_ylabel('Infall Rate')\n",
    "plt.show()"
   ]
  },
  {
   "cell_type": "markdown",
   "id": "200dd52d-a8d8-4ec7-975f-aa118ae1c99d",
   "metadata": {},
   "source": [
    "The massive dwarf galaxy model"
   ]
  },
  {
   "cell_type": "code",
   "execution_count": 43,
   "id": "7eada013-a1bc-45d5-8199-d1e756f2792f",
   "metadata": {},
   "outputs": [],
   "source": [
    "# As in Vincenzo et al. (2019), normalize infall to accrete a total of 10^10 Msun\n",
    "dwarf_ifr = OneInfall(timescale=0.24, amplitude=(1e10/1e9)/0.24) # convert to Msun/yr\n",
    "\n",
    "dwarf = vice.singlezone(\n",
    "    name=str(output_dir / 'dwarf'),\n",
    "    func=dwarf_ifr,\n",
    "    mode='ifr',\n",
    "    elements=('fe', 'o'),\n",
    "    eta=1.5,\n",
    "    delay=0.04,\n",
    "    RIa=SD_RIa,\n",
    "    Mg0=0,\n",
    "    tau_star=1/0.42,\n",
    "    dt=dt,\n",
    "    schmidt=True,\n",
    "    MgSchmidt=1e10\n",
    ")\n",
    "dwarf.run(simtime, overwrite=True)"
   ]
  },
  {
   "cell_type": "code",
   "execution_count": 44,
   "id": "12885f86-623d-469e-a69f-22e6f41d0c88",
   "metadata": {},
   "outputs": [
    {
     "data": {
      "text/plain": [
       "vice.dataframe{\n",
       "    time -----------> [0, 0.01, 0.02, ... , 12.49, 12.5, 12.51]\n",
       "    mgas -----------> [1e-12, 4.16667e+08, 8.1547e+08, ... , 3.25366e+08, 3.25004e+08, 3.24643e+08]\n",
       "    mstar ----------> [0, 3.79776e-26, 323006, ... , 2.71791e+09, 2.7179e+09, 2.71789e+09]\n",
       "    sfr ------------> [4.2e-33, 0.0357217, 0.0978051, ... , 0.0246494, 0.0246084, 0.0245674]\n",
       "    ifr ------------> [41.6667, 39.9662, 38.3352, ... , 1.04323e-21, 1.00066e-21, 9.59818e-22]\n",
       "    ofr ------------> [6.3e-33, 0.0535826, 0.146708, ... , 0.0369741, 0.0369125, 0.0368511]\n",
       "    eta_0 ----------> [1.5, 1.5, 1.5, ... , 1.5, 1.5, 1.5]\n",
       "    r_eff ----------> [0.0957713, 0.0957713, 0.113543, ... , 1.03314, 1.03356, 1.03398]\n",
       "    z_in(fe) -------> [0, 0, 0, ... , 0, 0, 0]\n",
       "    z_in(o) --------> [0, 0, 0, ... , 0, 0, 0]\n",
       "    z_out(fe) ------> [0, 5.04e-17, 1.02879e-06, ... , 0.00690089, 0.00690225, 0.0069036]\n",
       "    z_out(o) -------> [0, 6.3e-16, 1.28598e-05, ... , 0.0218558, 0.0218602, 0.0218646]\n",
       "    mass(fe) -------> [0, 5.04e-29, 428.661, ... , 2.24781e+06, 2.24575e+06, 2.2437e+06]\n",
       "    mass(o) --------> [0, 6.3e-28, 5358.26, ... , 7.11906e+06, 7.11257e+06, 7.10609e+06]\n",
       "    z(fe) ----------> [0, 1.2096e-37, 5.25661e-07, ... , 0.00690857, 0.00690993, 0.00691127]\n",
       "    z(o) -----------> [0, 1.512e-36, 6.57076e-06, ... , 0.0218802, 0.0218846, 0.0218889]\n",
       "    [fe/h] ---------> [-inf, -34.0279, -3.38988, ... , 0.728799, 0.728884, 0.728968]\n",
       "    [o/h] ----------> [-inf, -33.5778, -2.93978, ... , 0.582655, 0.582742, 0.582829]\n",
       "    [o/fe] ---------> [nan, 0.450104, 0.450104, ... , -0.146144, -0.146142, -0.14614]\n",
       "    z --------------> [0, 3.26126e-36, 1.41726e-05, ... , 0.0574953, 0.0575068, 0.0575182]\n",
       "    [m/h] ----------> [-inf, -33.6327, -2.99468, ... , 0.613505, 0.613591, 0.613678]\n",
       "    lookback -------> [12.51, 12.5, 12.49, ... , 0.02, 0.01, 0]\n",
       "}"
      ]
     },
     "execution_count": 44,
     "metadata": {},
     "output_type": "execute_result"
    }
   ],
   "source": [
    "dwarf_hist = vice.history(str(output_dir / 'dwarf'))\n",
    "dwarf_hist"
   ]
  },
  {
   "cell_type": "code",
   "execution_count": 45,
   "id": "d0a56025-ffb8-489a-8dba-aa500b614002",
   "metadata": {},
   "outputs": [
    {
     "data": {
      "text/plain": [
       "-0.27665109464902543"
      ]
     },
     "execution_count": 45,
     "metadata": {},
     "output_type": "execute_result"
    }
   ],
   "source": [
    "# Disk evolution start time\n",
    "tdisk = 1.3\n",
    "dwarf_hist['[fe/h]'][int(tdisk*100)]"
   ]
  },
  {
   "cell_type": "code",
   "execution_count": 49,
   "id": "27560e35-8898-453c-9706-5c433cc364be",
   "metadata": {},
   "outputs": [
    {
     "data": {
      "text/plain": [
       "(-3.0, 0.5)"
      ]
     },
     "execution_count": 49,
     "metadata": {},
     "output_type": "execute_result"
    },
    {
     "data": {
      "image/png": "[encoded data removed]",
      "text/plain": [
       "<Figure size 640x480 with 1 Axes>"
      ]
     },
     "metadata": {},
     "output_type": "display_data"
    }
   ],
   "source": [
    "plt.plot(dwarf_hist['[fe/h]'], dwarf_hist['[o/fe]'])\n",
    "plt.plot(-0.8, 0.23, 'ro')\n",
    "plt.xlim((-3, 0.5))"
   ]
  },
  {
   "cell_type": "code",
   "execution_count": null,
   "id": "aa8bade9-7930-4b8f-9af1-071f3dd7c0df",
   "metadata": {},
   "outputs": [],
   "source": []
  }
 ],
 "metadata": {
  "kernelspec": {
   "display_name": "Python 3 (ipykernel)",
   "language": "python",
   "name": "python3"
  },
  "language_info": {
   "codemirror_mode": {
    "name": "ipython",
    "version": 3
   },
   "file_extension": ".py",
   "mimetype": "text/x-python",
   "name": "python",
   "nbconvert_exporter": "python",
   "pygments_lexer": "ipython3",
   "version": "3.12.3"
  }
 },
 "nbformat": 4,
 "nbformat_minor": 5
}
