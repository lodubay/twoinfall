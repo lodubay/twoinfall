{
 "cells": [
  {
   "cell_type": "markdown",
   "id": "6e2e0f32-6cbd-46e5-a67a-8fcc0739ab09",
   "metadata": {},
   "source": [
    "# One-zone two-infall models with Francois et al. (2004) yields"
   ]
  },
  {
   "cell_type": "code",
   "execution_count": 5,
   "id": "a10a7ffb-1f89-4785-a72d-f2a331ec6df8",
   "metadata": {},
   "outputs": [],
   "source": [
    "import math as m\n",
    "import numpy as np\n",
    "import matplotlib.pyplot as plt\n",
    "import vice\n",
    "import paths\n",
    "from multizone.src.models import twoinfall, insideout\n",
    "from track_and_mdf import setup_figure, plot_vice_onezone\n",
    "from multizone.src import dtds\n",
    "import _globals"
   ]
  },
  {
   "cell_type": "code",
   "execution_count": 6,
   "id": "49530797-96ae-490d-8ad4-f383ebb0dd72",
   "metadata": {},
   "outputs": [],
   "source": [
    "plt.style.use(paths.styles / 'paper.mplstyle')\n",
    "plt.rcParams['figure.dpi'] = 200"
   ]
  },
  {
   "cell_type": "code",
   "execution_count": 7,
   "id": "64898eb1-34ec-4773-93a1-69a369f2e63f",
   "metadata": {},
   "outputs": [],
   "source": [
    "output_dir = paths.data / 'onezone' / 'yields' / 'F04'\n",
    "output_dir.mkdir(parents=True, exist_ok=True)"
   ]
  },
  {
   "cell_type": "code",
   "execution_count": 8,
   "id": "92f5b06c-3d69-4276-9e71-e952dc95c7f4",
   "metadata": {},
   "outputs": [],
   "source": [
    "dt = 0.01\n",
    "tmax = _globals.END_TIME\n",
    "simtime = np.arange(0, tmax+dt, dt)"
   ]
  },
  {
   "cell_type": "code",
   "execution_count": 9,
   "id": "ff755ba4-30f0-4714-9885-b72d89ff1514",
   "metadata": {},
   "outputs": [],
   "source": [
    "r = 8\n",
    "dr = 2\n",
    "zone_area = np.pi * ((r+dr/2)**2 - (r-dr/2)**2)"
   ]
  },
  {
   "cell_type": "code",
   "execution_count": 10,
   "id": "4dc55756-f0ec-4d3b-a9b5-b7f01cb40833",
   "metadata": {},
   "outputs": [],
   "source": [
    "def setup_onezone(name, func, mode='ifr'):\n",
    "    sz = vice.singlezone(\n",
    "        name=name,\n",
    "        func=func,\n",
    "        mode=mode,\n",
    "        elements=('fe', 'o'),\n",
    "        eta=0.,\n",
    "        Zin=0.,\n",
    "        delay=0.04,\n",
    "        RIa=dtds.exponential(timescale=1.5),\n",
    "        Mg0=1e6,\n",
    "        tau_star=2.,\n",
    "        dt=dt,\n",
    "        bins=[i*0.01 - 3 for i in range(401)],\n",
    "    )\n",
    "    return sz"
   ]
  },
  {
   "cell_type": "markdown",
   "id": "30b5a780-5e1c-4e05-871d-4a778716e643",
   "metadata": {},
   "source": [
    "## Yields\n",
    "\n",
    "For Fe and O, the yield tables from Francrois et al. (2004) are unchanged from their original sources: Woosley & Weaver (1995, cases A and B) for massive stars and Iwamoto et al. (1999, model W7) for white dwarfs."
   ]
  },
  {
   "cell_type": "code",
   "execution_count": 4,
   "id": "12ab2e73-5040-4746-b5b5-30fbc59aa5ea",
   "metadata": {
    "scrolled": true
   },
   "outputs": [
    {
     "name": "stderr",
     "output_type": "stream",
     "text": [
      "/home/lodubay/anaconda3/envs/2inf/lib/python3.12/site-packages/vice/yields/ccsne/WW95/__init__.py:119: ScienceWarning: Woosley & Weaver (1995) did not report their birth abundances. VICE cannot compute net yields for this study, only reporting gross yields.\n",
      "  __settings[i] = __fractional(i, study = \"WW95\", **kwargs)[0]\n",
      "/home/lodubay/anaconda3/envs/2inf/lib/python3.12/site-packages/vice/yields/ccsne/WW95/__init__.py:119: ScienceWarning: The Woosley & Weaver (1995) ApJ, 101, 181 study did not report yields for the element ga. If adopting these yields for simulation, it is likely that this yield can be approximated as zero at this metallicity. Users may exercise their own discretion by modifying their CCSN yield settings directly.\n",
      "  __settings[i] = __fractional(i, study = \"WW95\", **kwargs)[0]\n",
      "/home/lodubay/anaconda3/envs/2inf/lib/python3.12/site-packages/vice/yields/ccsne/WW95/__init__.py:119: ScienceWarning: The Woosley & Weaver (1995) ApJ, 101, 181 study did not report yields for the element ge. If adopting these yields for simulation, it is likely that this yield can be approximated as zero at this metallicity. Users may exercise their own discretion by modifying their CCSN yield settings directly.\n",
      "  __settings[i] = __fractional(i, study = \"WW95\", **kwargs)[0]\n",
      "/home/lodubay/anaconda3/envs/2inf/lib/python3.12/site-packages/vice/yields/ccsne/WW95/__init__.py:119: ScienceWarning: The Woosley & Weaver (1995) ApJ, 101, 181 study did not report yields for the element as. If adopting these yields for simulation, it is likely that this yield can be approximated as zero at this metallicity. Users may exercise their own discretion by modifying their CCSN yield settings directly.\n",
      "  __settings[i] = __fractional(i, study = \"WW95\", **kwargs)[0]\n",
      "/home/lodubay/anaconda3/envs/2inf/lib/python3.12/site-packages/vice/yields/ccsne/WW95/__init__.py:119: ScienceWarning: The Woosley & Weaver (1995) ApJ, 101, 181 study did not report yields for the element se. If adopting these yields for simulation, it is likely that this yield can be approximated as zero at this metallicity. Users may exercise their own discretion by modifying their CCSN yield settings directly.\n",
      "  __settings[i] = __fractional(i, study = \"WW95\", **kwargs)[0]\n",
      "/home/lodubay/anaconda3/envs/2inf/lib/python3.12/site-packages/vice/yields/ccsne/WW95/__init__.py:119: ScienceWarning: The Woosley & Weaver (1995) ApJ, 101, 181 study did not report yields for the element br. If adopting these yields for simulation, it is likely that this yield can be approximated as zero at this metallicity. Users may exercise their own discretion by modifying their CCSN yield settings directly.\n",
      "  __settings[i] = __fractional(i, study = \"WW95\", **kwargs)[0]\n",
      "/home/lodubay/anaconda3/envs/2inf/lib/python3.12/site-packages/vice/yields/ccsne/WW95/__init__.py:119: ScienceWarning: The Woosley & Weaver (1995) ApJ, 101, 181 study did not report yields for the element kr. If adopting these yields for simulation, it is likely that this yield can be approximated as zero at this metallicity. Users may exercise their own discretion by modifying their CCSN yield settings directly.\n",
      "  __settings[i] = __fractional(i, study = \"WW95\", **kwargs)[0]\n",
      "/home/lodubay/anaconda3/envs/2inf/lib/python3.12/site-packages/vice/yields/ccsne/WW95/__init__.py:119: ScienceWarning: The Woosley & Weaver (1995) ApJ, 101, 181 study did not report yields for the element rb. If adopting these yields for simulation, it is likely that this yield can be approximated as zero at this metallicity. Users may exercise their own discretion by modifying their CCSN yield settings directly.\n",
      "  __settings[i] = __fractional(i, study = \"WW95\", **kwargs)[0]\n",
      "/home/lodubay/anaconda3/envs/2inf/lib/python3.12/site-packages/vice/yields/ccsne/WW95/__init__.py:119: ScienceWarning: The Woosley & Weaver (1995) ApJ, 101, 181 study did not report yields for the element sr. If adopting these yields for simulation, it is likely that this yield can be approximated as zero at this metallicity. Users may exercise their own discretion by modifying their CCSN yield settings directly.\n",
      "  __settings[i] = __fractional(i, study = \"WW95\", **kwargs)[0]\n",
      "/home/lodubay/anaconda3/envs/2inf/lib/python3.12/site-packages/vice/yields/ccsne/WW95/__init__.py:119: ScienceWarning: The Woosley & Weaver (1995) ApJ, 101, 181 study did not report yields for the element y. If adopting these yields for simulation, it is likely that this yield can be approximated as zero at this metallicity. Users may exercise their own discretion by modifying their CCSN yield settings directly.\n",
      "  __settings[i] = __fractional(i, study = \"WW95\", **kwargs)[0]\n",
      "/home/lodubay/anaconda3/envs/2inf/lib/python3.12/site-packages/vice/yields/ccsne/WW95/__init__.py:119: ScienceWarning: The Woosley & Weaver (1995) ApJ, 101, 181 study did not report yields for the element zr. If adopting these yields for simulation, it is likely that this yield can be approximated as zero at this metallicity. Users may exercise their own discretion by modifying their CCSN yield settings directly.\n",
      "  __settings[i] = __fractional(i, study = \"WW95\", **kwargs)[0]\n",
      "/home/lodubay/anaconda3/envs/2inf/lib/python3.12/site-packages/vice/yields/ccsne/WW95/__init__.py:119: ScienceWarning: The Woosley & Weaver (1995) ApJ, 101, 181 study did not report yields for the element nb. If adopting these yields for simulation, it is likely that this yield can be approximated as zero at this metallicity. Users may exercise their own discretion by modifying their CCSN yield settings directly.\n",
      "  __settings[i] = __fractional(i, study = \"WW95\", **kwargs)[0]\n",
      "/home/lodubay/anaconda3/envs/2inf/lib/python3.12/site-packages/vice/yields/ccsne/WW95/__init__.py:119: ScienceWarning: The Woosley & Weaver (1995) ApJ, 101, 181 study did not report yields for the element mo. If adopting these yields for simulation, it is likely that this yield can be approximated as zero at this metallicity. Users may exercise their own discretion by modifying their CCSN yield settings directly.\n",
      "  __settings[i] = __fractional(i, study = \"WW95\", **kwargs)[0]\n",
      "/home/lodubay/anaconda3/envs/2inf/lib/python3.12/site-packages/vice/yields/ccsne/WW95/__init__.py:119: ScienceWarning: The Woosley & Weaver (1995) ApJ, 101, 181 study did not report yields for the element ru. If adopting these yields for simulation, it is likely that this yield can be approximated as zero at this metallicity. Users may exercise their own discretion by modifying their CCSN yield settings directly.\n",
      "  __settings[i] = __fractional(i, study = \"WW95\", **kwargs)[0]\n",
      "/home/lodubay/anaconda3/envs/2inf/lib/python3.12/site-packages/vice/yields/ccsne/WW95/__init__.py:119: ScienceWarning: The Woosley & Weaver (1995) ApJ, 101, 181 study did not report yields for the element rh. If adopting these yields for simulation, it is likely that this yield can be approximated as zero at this metallicity. Users may exercise their own discretion by modifying their CCSN yield settings directly.\n",
      "  __settings[i] = __fractional(i, study = \"WW95\", **kwargs)[0]\n",
      "/home/lodubay/anaconda3/envs/2inf/lib/python3.12/site-packages/vice/yields/ccsne/WW95/__init__.py:119: ScienceWarning: The Woosley & Weaver (1995) ApJ, 101, 181 study did not report yields for the element pd. If adopting these yields for simulation, it is likely that this yield can be approximated as zero at this metallicity. Users may exercise their own discretion by modifying their CCSN yield settings directly.\n",
      "  __settings[i] = __fractional(i, study = \"WW95\", **kwargs)[0]\n",
      "/home/lodubay/anaconda3/envs/2inf/lib/python3.12/site-packages/vice/yields/ccsne/WW95/__init__.py:119: ScienceWarning: The Woosley & Weaver (1995) ApJ, 101, 181 study did not report yields for the element ag. If adopting these yields for simulation, it is likely that this yield can be approximated as zero at this metallicity. Users may exercise their own discretion by modifying their CCSN yield settings directly.\n",
      "  __settings[i] = __fractional(i, study = \"WW95\", **kwargs)[0]\n",
      "/home/lodubay/anaconda3/envs/2inf/lib/python3.12/site-packages/vice/yields/ccsne/WW95/__init__.py:119: ScienceWarning: The Woosley & Weaver (1995) ApJ, 101, 181 study did not report yields for the element cd. If adopting these yields for simulation, it is likely that this yield can be approximated as zero at this metallicity. Users may exercise their own discretion by modifying their CCSN yield settings directly.\n",
      "  __settings[i] = __fractional(i, study = \"WW95\", **kwargs)[0]\n",
      "/home/lodubay/anaconda3/envs/2inf/lib/python3.12/site-packages/vice/yields/ccsne/WW95/__init__.py:119: ScienceWarning: The Woosley & Weaver (1995) ApJ, 101, 181 study did not report yields for the element in. If adopting these yields for simulation, it is likely that this yield can be approximated as zero at this metallicity. Users may exercise their own discretion by modifying their CCSN yield settings directly.\n",
      "  __settings[i] = __fractional(i, study = \"WW95\", **kwargs)[0]\n",
      "/home/lodubay/anaconda3/envs/2inf/lib/python3.12/site-packages/vice/yields/ccsne/WW95/__init__.py:119: ScienceWarning: The Woosley & Weaver (1995) ApJ, 101, 181 study did not report yields for the element sn. If adopting these yields for simulation, it is likely that this yield can be approximated as zero at this metallicity. Users may exercise their own discretion by modifying their CCSN yield settings directly.\n",
      "  __settings[i] = __fractional(i, study = \"WW95\", **kwargs)[0]\n",
      "/home/lodubay/anaconda3/envs/2inf/lib/python3.12/site-packages/vice/yields/ccsne/WW95/__init__.py:119: ScienceWarning: The Woosley & Weaver (1995) ApJ, 101, 181 study did not report yields for the element sb. If adopting these yields for simulation, it is likely that this yield can be approximated as zero at this metallicity. Users may exercise their own discretion by modifying their CCSN yield settings directly.\n",
      "  __settings[i] = __fractional(i, study = \"WW95\", **kwargs)[0]\n",
      "/home/lodubay/anaconda3/envs/2inf/lib/python3.12/site-packages/vice/yields/ccsne/WW95/__init__.py:119: ScienceWarning: The Woosley & Weaver (1995) ApJ, 101, 181 study did not report yields for the element te. If adopting these yields for simulation, it is likely that this yield can be approximated as zero at this metallicity. Users may exercise their own discretion by modifying their CCSN yield settings directly.\n",
      "  __settings[i] = __fractional(i, study = \"WW95\", **kwargs)[0]\n",
      "/home/lodubay/anaconda3/envs/2inf/lib/python3.12/site-packages/vice/yields/ccsne/WW95/__init__.py:119: ScienceWarning: The Woosley & Weaver (1995) ApJ, 101, 181 study did not report yields for the element i. If adopting these yields for simulation, it is likely that this yield can be approximated as zero at this metallicity. Users may exercise their own discretion by modifying their CCSN yield settings directly.\n",
      "  __settings[i] = __fractional(i, study = \"WW95\", **kwargs)[0]\n",
      "/home/lodubay/anaconda3/envs/2inf/lib/python3.12/site-packages/vice/yields/ccsne/WW95/__init__.py:119: ScienceWarning: The Woosley & Weaver (1995) ApJ, 101, 181 study did not report yields for the element xe. If adopting these yields for simulation, it is likely that this yield can be approximated as zero at this metallicity. Users may exercise their own discretion by modifying their CCSN yield settings directly.\n",
      "  __settings[i] = __fractional(i, study = \"WW95\", **kwargs)[0]\n",
      "/home/lodubay/anaconda3/envs/2inf/lib/python3.12/site-packages/vice/yields/ccsne/WW95/__init__.py:119: ScienceWarning: The Woosley & Weaver (1995) ApJ, 101, 181 study did not report yields for the element cs. If adopting these yields for simulation, it is likely that this yield can be approximated as zero at this metallicity. Users may exercise their own discretion by modifying their CCSN yield settings directly.\n",
      "  __settings[i] = __fractional(i, study = \"WW95\", **kwargs)[0]\n",
      "/home/lodubay/anaconda3/envs/2inf/lib/python3.12/site-packages/vice/yields/ccsne/WW95/__init__.py:119: ScienceWarning: The Woosley & Weaver (1995) ApJ, 101, 181 study did not report yields for the element ba. If adopting these yields for simulation, it is likely that this yield can be approximated as zero at this metallicity. Users may exercise their own discretion by modifying their CCSN yield settings directly.\n",
      "  __settings[i] = __fractional(i, study = \"WW95\", **kwargs)[0]\n",
      "/home/lodubay/anaconda3/envs/2inf/lib/python3.12/site-packages/vice/yields/ccsne/WW95/__init__.py:119: ScienceWarning: The Woosley & Weaver (1995) ApJ, 101, 181 study did not report yields for the element la. If adopting these yields for simulation, it is likely that this yield can be approximated as zero at this metallicity. Users may exercise their own discretion by modifying their CCSN yield settings directly.\n",
      "  __settings[i] = __fractional(i, study = \"WW95\", **kwargs)[0]\n",
      "/home/lodubay/anaconda3/envs/2inf/lib/python3.12/site-packages/vice/yields/ccsne/WW95/__init__.py:119: ScienceWarning: The Woosley & Weaver (1995) ApJ, 101, 181 study did not report yields for the element ce. If adopting these yields for simulation, it is likely that this yield can be approximated as zero at this metallicity. Users may exercise their own discretion by modifying their CCSN yield settings directly.\n",
      "  __settings[i] = __fractional(i, study = \"WW95\", **kwargs)[0]\n",
      "/home/lodubay/anaconda3/envs/2inf/lib/python3.12/site-packages/vice/yields/ccsne/WW95/__init__.py:119: ScienceWarning: The Woosley & Weaver (1995) ApJ, 101, 181 study did not report yields for the element pr. If adopting these yields for simulation, it is likely that this yield can be approximated as zero at this metallicity. Users may exercise their own discretion by modifying their CCSN yield settings directly.\n",
      "  __settings[i] = __fractional(i, study = \"WW95\", **kwargs)[0]\n",
      "/home/lodubay/anaconda3/envs/2inf/lib/python3.12/site-packages/vice/yields/ccsne/WW95/__init__.py:119: ScienceWarning: The Woosley & Weaver (1995) ApJ, 101, 181 study did not report yields for the element nd. If adopting these yields for simulation, it is likely that this yield can be approximated as zero at this metallicity. Users may exercise their own discretion by modifying their CCSN yield settings directly.\n",
      "  __settings[i] = __fractional(i, study = \"WW95\", **kwargs)[0]\n",
      "/home/lodubay/anaconda3/envs/2inf/lib/python3.12/site-packages/vice/yields/ccsne/WW95/__init__.py:119: ScienceWarning: The Woosley & Weaver (1995) ApJ, 101, 181 study did not report yields for the element sm. If adopting these yields for simulation, it is likely that this yield can be approximated as zero at this metallicity. Users may exercise their own discretion by modifying their CCSN yield settings directly.\n",
      "  __settings[i] = __fractional(i, study = \"WW95\", **kwargs)[0]\n",
      "/home/lodubay/anaconda3/envs/2inf/lib/python3.12/site-packages/vice/yields/ccsne/WW95/__init__.py:119: ScienceWarning: The Woosley & Weaver (1995) ApJ, 101, 181 study did not report yields for the element eu. If adopting these yields for simulation, it is likely that this yield can be approximated as zero at this metallicity. Users may exercise their own discretion by modifying their CCSN yield settings directly.\n",
      "  __settings[i] = __fractional(i, study = \"WW95\", **kwargs)[0]\n",
      "/home/lodubay/anaconda3/envs/2inf/lib/python3.12/site-packages/vice/yields/ccsne/WW95/__init__.py:119: ScienceWarning: The Woosley & Weaver (1995) ApJ, 101, 181 study did not report yields for the element gd. If adopting these yields for simulation, it is likely that this yield can be approximated as zero at this metallicity. Users may exercise their own discretion by modifying their CCSN yield settings directly.\n",
      "  __settings[i] = __fractional(i, study = \"WW95\", **kwargs)[0]\n",
      "/home/lodubay/anaconda3/envs/2inf/lib/python3.12/site-packages/vice/yields/ccsne/WW95/__init__.py:119: ScienceWarning: The Woosley & Weaver (1995) ApJ, 101, 181 study did not report yields for the element tb. If adopting these yields for simulation, it is likely that this yield can be approximated as zero at this metallicity. Users may exercise their own discretion by modifying their CCSN yield settings directly.\n",
      "  __settings[i] = __fractional(i, study = \"WW95\", **kwargs)[0]\n",
      "/home/lodubay/anaconda3/envs/2inf/lib/python3.12/site-packages/vice/yields/ccsne/WW95/__init__.py:119: ScienceWarning: The Woosley & Weaver (1995) ApJ, 101, 181 study did not report yields for the element dy. If adopting these yields for simulation, it is likely that this yield can be approximated as zero at this metallicity. Users may exercise their own discretion by modifying their CCSN yield settings directly.\n",
      "  __settings[i] = __fractional(i, study = \"WW95\", **kwargs)[0]\n",
      "/home/lodubay/anaconda3/envs/2inf/lib/python3.12/site-packages/vice/yields/ccsne/WW95/__init__.py:119: ScienceWarning: The Woosley & Weaver (1995) ApJ, 101, 181 study did not report yields for the element ho. If adopting these yields for simulation, it is likely that this yield can be approximated as zero at this metallicity. Users may exercise their own discretion by modifying their CCSN yield settings directly.\n",
      "  __settings[i] = __fractional(i, study = \"WW95\", **kwargs)[0]\n",
      "/home/lodubay/anaconda3/envs/2inf/lib/python3.12/site-packages/vice/yields/ccsne/WW95/__init__.py:119: ScienceWarning: The Woosley & Weaver (1995) ApJ, 101, 181 study did not report yields for the element er. If adopting these yields for simulation, it is likely that this yield can be approximated as zero at this metallicity. Users may exercise their own discretion by modifying their CCSN yield settings directly.\n",
      "  __settings[i] = __fractional(i, study = \"WW95\", **kwargs)[0]\n",
      "/home/lodubay/anaconda3/envs/2inf/lib/python3.12/site-packages/vice/yields/ccsne/WW95/__init__.py:119: ScienceWarning: The Woosley & Weaver (1995) ApJ, 101, 181 study did not report yields for the element tm. If adopting these yields for simulation, it is likely that this yield can be approximated as zero at this metallicity. Users may exercise their own discretion by modifying their CCSN yield settings directly.\n",
      "  __settings[i] = __fractional(i, study = \"WW95\", **kwargs)[0]\n",
      "/home/lodubay/anaconda3/envs/2inf/lib/python3.12/site-packages/vice/yields/ccsne/WW95/__init__.py:119: ScienceWarning: The Woosley & Weaver (1995) ApJ, 101, 181 study did not report yields for the element yb. If adopting these yields for simulation, it is likely that this yield can be approximated as zero at this metallicity. Users may exercise their own discretion by modifying their CCSN yield settings directly.\n",
      "  __settings[i] = __fractional(i, study = \"WW95\", **kwargs)[0]\n",
      "/home/lodubay/anaconda3/envs/2inf/lib/python3.12/site-packages/vice/yields/ccsne/WW95/__init__.py:119: ScienceWarning: The Woosley & Weaver (1995) ApJ, 101, 181 study did not report yields for the element lu. If adopting these yields for simulation, it is likely that this yield can be approximated as zero at this metallicity. Users may exercise their own discretion by modifying their CCSN yield settings directly.\n",
      "  __settings[i] = __fractional(i, study = \"WW95\", **kwargs)[0]\n",
      "/home/lodubay/anaconda3/envs/2inf/lib/python3.12/site-packages/vice/yields/ccsne/WW95/__init__.py:119: ScienceWarning: The Woosley & Weaver (1995) ApJ, 101, 181 study did not report yields for the element hf. If adopting these yields for simulation, it is likely that this yield can be approximated as zero at this metallicity. Users may exercise their own discretion by modifying their CCSN yield settings directly.\n",
      "  __settings[i] = __fractional(i, study = \"WW95\", **kwargs)[0]\n",
      "/home/lodubay/anaconda3/envs/2inf/lib/python3.12/site-packages/vice/yields/ccsne/WW95/__init__.py:119: ScienceWarning: The Woosley & Weaver (1995) ApJ, 101, 181 study did not report yields for the element ta. If adopting these yields for simulation, it is likely that this yield can be approximated as zero at this metallicity. Users may exercise their own discretion by modifying their CCSN yield settings directly.\n",
      "  __settings[i] = __fractional(i, study = \"WW95\", **kwargs)[0]\n",
      "/home/lodubay/anaconda3/envs/2inf/lib/python3.12/site-packages/vice/yields/ccsne/WW95/__init__.py:119: ScienceWarning: The Woosley & Weaver (1995) ApJ, 101, 181 study did not report yields for the element w. If adopting these yields for simulation, it is likely that this yield can be approximated as zero at this metallicity. Users may exercise their own discretion by modifying their CCSN yield settings directly.\n",
      "  __settings[i] = __fractional(i, study = \"WW95\", **kwargs)[0]\n",
      "/home/lodubay/anaconda3/envs/2inf/lib/python3.12/site-packages/vice/yields/ccsne/WW95/__init__.py:119: ScienceWarning: The Woosley & Weaver (1995) ApJ, 101, 181 study did not report yields for the element re. If adopting these yields for simulation, it is likely that this yield can be approximated as zero at this metallicity. Users may exercise their own discretion by modifying their CCSN yield settings directly.\n",
      "  __settings[i] = __fractional(i, study = \"WW95\", **kwargs)[0]\n",
      "/home/lodubay/anaconda3/envs/2inf/lib/python3.12/site-packages/vice/yields/ccsne/WW95/__init__.py:119: ScienceWarning: The Woosley & Weaver (1995) ApJ, 101, 181 study did not report yields for the element os. If adopting these yields for simulation, it is likely that this yield can be approximated as zero at this metallicity. Users may exercise their own discretion by modifying their CCSN yield settings directly.\n",
      "  __settings[i] = __fractional(i, study = \"WW95\", **kwargs)[0]\n",
      "/home/lodubay/anaconda3/envs/2inf/lib/python3.12/site-packages/vice/yields/ccsne/WW95/__init__.py:119: ScienceWarning: The Woosley & Weaver (1995) ApJ, 101, 181 study did not report yields for the element ir. If adopting these yields for simulation, it is likely that this yield can be approximated as zero at this metallicity. Users may exercise their own discretion by modifying their CCSN yield settings directly.\n",
      "  __settings[i] = __fractional(i, study = \"WW95\", **kwargs)[0]\n",
      "/home/lodubay/anaconda3/envs/2inf/lib/python3.12/site-packages/vice/yields/ccsne/WW95/__init__.py:119: ScienceWarning: The Woosley & Weaver (1995) ApJ, 101, 181 study did not report yields for the element pt. If adopting these yields for simulation, it is likely that this yield can be approximated as zero at this metallicity. Users may exercise their own discretion by modifying their CCSN yield settings directly.\n",
      "  __settings[i] = __fractional(i, study = \"WW95\", **kwargs)[0]\n",
      "/home/lodubay/anaconda3/envs/2inf/lib/python3.12/site-packages/vice/yields/ccsne/WW95/__init__.py:119: ScienceWarning: The Woosley & Weaver (1995) ApJ, 101, 181 study did not report yields for the element au. If adopting these yields for simulation, it is likely that this yield can be approximated as zero at this metallicity. Users may exercise their own discretion by modifying their CCSN yield settings directly.\n",
      "  __settings[i] = __fractional(i, study = \"WW95\", **kwargs)[0]\n",
      "/home/lodubay/anaconda3/envs/2inf/lib/python3.12/site-packages/vice/yields/ccsne/WW95/__init__.py:119: ScienceWarning: The Woosley & Weaver (1995) ApJ, 101, 181 study did not report yields for the element hg. If adopting these yields for simulation, it is likely that this yield can be approximated as zero at this metallicity. Users may exercise their own discretion by modifying their CCSN yield settings directly.\n",
      "  __settings[i] = __fractional(i, study = \"WW95\", **kwargs)[0]\n",
      "/home/lodubay/anaconda3/envs/2inf/lib/python3.12/site-packages/vice/yields/ccsne/WW95/__init__.py:119: ScienceWarning: The Woosley & Weaver (1995) ApJ, 101, 181 study did not report yields for the element tl. If adopting these yields for simulation, it is likely that this yield can be approximated as zero at this metallicity. Users may exercise their own discretion by modifying their CCSN yield settings directly.\n",
      "  __settings[i] = __fractional(i, study = \"WW95\", **kwargs)[0]\n",
      "/home/lodubay/anaconda3/envs/2inf/lib/python3.12/site-packages/vice/yields/ccsne/WW95/__init__.py:119: ScienceWarning: The Woosley & Weaver (1995) ApJ, 101, 181 study did not report yields for the element pb. If adopting these yields for simulation, it is likely that this yield can be approximated as zero at this metallicity. Users may exercise their own discretion by modifying their CCSN yield settings directly.\n",
      "  __settings[i] = __fractional(i, study = \"WW95\", **kwargs)[0]\n",
      "/home/lodubay/anaconda3/envs/2inf/lib/python3.12/site-packages/vice/yields/ccsne/WW95/__init__.py:119: ScienceWarning: The Woosley & Weaver (1995) ApJ, 101, 181 study did not report yields for the element bi. If adopting these yields for simulation, it is likely that this yield can be approximated as zero at this metallicity. Users may exercise their own discretion by modifying their CCSN yield settings directly.\n",
      "  __settings[i] = __fractional(i, study = \"WW95\", **kwargs)[0]\n"
     ]
    }
   ],
   "source": [
    "from vice.yields.ccsne import WW95\n",
    "from vice.yields.sneia import iwamoto99\n",
    "iwamoto99.set_params(model='W7')"
   ]
  },
  {
   "cell_type": "code",
   "execution_count": null,
   "id": "65f79fea-4135-4abb-b839-10afd723273e",
   "metadata": {},
   "outputs": [],
   "source": []
  }
 ],
 "metadata": {
  "kernelspec": {
   "display_name": "Python 3 (ipykernel)",
   "language": "python",
   "name": "python3"
  },
  "language_info": {
   "codemirror_mode": {
    "name": "ipython",
    "version": 3
   },
   "file_extension": ".py",
   "mimetype": "text/x-python",
   "name": "python",
   "nbconvert_exporter": "python",
   "pygments_lexer": "ipython3",
   "version": "3.12.2"
  }
 },
 "nbformat": 4,
 "nbformat_minor": 5
}
